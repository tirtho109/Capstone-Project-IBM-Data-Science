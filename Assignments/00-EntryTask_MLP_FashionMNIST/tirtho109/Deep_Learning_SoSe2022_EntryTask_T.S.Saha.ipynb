{
  "nbformat": 4,
  "nbformat_minor": 0,
  "metadata": {
    "colab": {
      "name": "Deep_Learning_SoSe2022_EntryTask.ipynb",
      "provenance": [],
      "collapsed_sections": [],
      "include_colab_link": true
    },
    "kernelspec": {
      "name": "python3",
      "display_name": "Python 3"
    },
    "language_info": {
      "name": "python"
    }
  },
  "cells": [
    {
      "cell_type": "markdown",
      "metadata": {
        "id": "view-in-github",
        "colab_type": "text"
      },
      "source": [
        "<a href=\"https://colab.research.google.com/github/tirtho109/Capstone-Project-IBM-Data-Science/blob/main/Assignments/00-EntryTask_MLP_FashionMNIST/tirtho109/Deep_Learning_SoSe2022_EntryTask_T.S.Saha.ipynb\" target=\"_parent\"><img src=\"https://colab.research.google.com/assets/colab-badge.svg\" alt=\"Open In Colab\"/></a>"
      ]
    },
    {
      "cell_type": "markdown",
      "source": [
        "[<img align=\"right\" width=\"400\" height=\"100\" src=\"https://www.tu-braunschweig.de/typo3conf/ext/tu_braunschweig/Resources/Public/Images/Logos/tu_braunschweig_logo.svg\">](https://www.tu-braunschweig.de/en/) \n",
        "\n",
        "[Mehdi Maboudi](https://www.tu-braunschweig.de/en/igp/staff/mehdi-maboudi) \\([m.maboudi@tu-bs.de](m.maboudi@tu-bs.de)) and [Pedro Diaz](https://www.tu-braunschweig.de/en/igp/staff/pedro-diaz) (p.diaz@tu-bs.de)\n",
        "\n",
        "[Technical University of Braunschweig](https://www.tu-braunschweig.de/en/)  \n",
        "[Institute of Geodesy and Photogrammetry](https://www.tu-braunschweig.de/igp)  \n",
        "\n",
        "\n",
        "**Image classification using MLP**  "
      ],
      "metadata": {
        "id": "yuIfMMrkDzuT"
      }
    },
    {
      "cell_type": "markdown",
      "source": [
        "# Deep Learning Entry Task"
      ],
      "metadata": {
        "id": "cinq72Jckqnp"
      }
    },
    {
      "cell_type": "markdown",
      "source": [
        "## 1. Import all necessary packages"
      ],
      "metadata": {
        "id": "We3qMEvHk5iS"
      }
    },
    {
      "cell_type": "code",
      "source": [
        "# !pip install tensorflow\n"
      ],
      "metadata": {
        "id": "4cEKc2I2lCEs"
      },
      "execution_count": null,
      "outputs": []
    },
    {
      "cell_type": "code",
      "source": [
        "import tensorflow as tf\n",
        "from tensorflow import keras"
      ],
      "metadata": {
        "id": "0yX1Qo3mPcc-"
      },
      "execution_count": null,
      "outputs": []
    },
    {
      "cell_type": "code",
      "source": [
        "import numpy as np\n",
        "import pandas as pd\n",
        "import matplotlib.pyplot as plt"
      ],
      "metadata": {
        "id": "U_LI_iQgPyCd"
      },
      "execution_count": null,
      "outputs": []
    },
    {
      "cell_type": "code",
      "source": [
        "from sklearn.metrics import accuracy_score"
      ],
      "metadata": {
        "id": "-fKRIXUe1vES"
      },
      "execution_count": null,
      "outputs": []
    },
    {
      "cell_type": "markdown",
      "source": [
        "## 2. Load the [Fashion MNIST dataset](https://github.com/zalandoresearch/fashion-mnist]) for image classification and show some samples \n",
        "It is also available in [PyTorch datasets](https://pytorch.org/vision/stable/datasets.html) and [TensorFlow datasets](https://www.tensorflow.org/datasets)"
      ],
      "metadata": {
        "id": "4nm6BDwQkwil"
      }
    },
    {
      "cell_type": "markdown",
      "source": [
        "### 2.1 Loading the dataset"
      ],
      "metadata": {
        "id": "DWbUXwUmFcBx"
      }
    },
    {
      "cell_type": "code",
      "source": [
        "mnist = keras.datasets.fashion_mnist"
      ],
      "metadata": {
        "id": "O6JFkJmRFpYf"
      },
      "execution_count": null,
      "outputs": []
    },
    {
      "cell_type": "code",
      "source": [
        "type(mnist)"
      ],
      "metadata": {
        "colab": {
          "base_uri": "https://localhost:8080/"
        },
        "id": "AbWa_IjbQAIZ",
        "outputId": "cb2d3a54-22a4-46a2-f2fc-adb76aa421de"
      },
      "execution_count": null,
      "outputs": [
        {
          "output_type": "execute_result",
          "data": {
            "text/plain": [
              "module"
            ]
          },
          "metadata": {},
          "execution_count": 6
        }
      ]
    },
    {
      "cell_type": "code",
      "source": [
        "# mnist.load_data()"
      ],
      "metadata": {
        "id": "ssDepgl0Qd0U"
      },
      "execution_count": null,
      "outputs": []
    },
    {
      "cell_type": "code",
      "source": [
        "(X_train, Y_train), (X_test, Y_test) = mnist.load_data()"
      ],
      "metadata": {
        "id": "usnJAbYYQAVW",
        "colab": {
          "base_uri": "https://localhost:8080/"
        },
        "outputId": "703bd540-9953-4cea-d3da-b8cea11cfce0"
      },
      "execution_count": null,
      "outputs": [
        {
          "output_type": "stream",
          "name": "stdout",
          "text": [
            "Downloading data from https://storage.googleapis.com/tensorflow/tf-keras-datasets/train-labels-idx1-ubyte.gz\n",
            "32768/29515 [=================================] - 0s 0us/step\n",
            "40960/29515 [=========================================] - 0s 0us/step\n",
            "Downloading data from https://storage.googleapis.com/tensorflow/tf-keras-datasets/train-images-idx3-ubyte.gz\n",
            "26427392/26421880 [==============================] - 0s 0us/step\n",
            "26435584/26421880 [==============================] - 0s 0us/step\n",
            "Downloading data from https://storage.googleapis.com/tensorflow/tf-keras-datasets/t10k-labels-idx1-ubyte.gz\n",
            "16384/5148 [===============================================================================================] - 0s 0us/step\n",
            "Downloading data from https://storage.googleapis.com/tensorflow/tf-keras-datasets/t10k-images-idx3-ubyte.gz\n",
            "4423680/4422102 [==============================] - 0s 0us/step\n",
            "4431872/4422102 [==============================] - 0s 0us/step\n"
          ]
        }
      ]
    },
    {
      "cell_type": "code",
      "source": [
        "X_train.shape, Y_train.shape"
      ],
      "metadata": {
        "colab": {
          "base_uri": "https://localhost:8080/"
        },
        "id": "I6q1HilvQ3s8",
        "outputId": "24450f5e-cec6-423a-9962-1c4bff5b320e"
      },
      "execution_count": null,
      "outputs": [
        {
          "output_type": "execute_result",
          "data": {
            "text/plain": [
              "((60000, 28, 28), (60000,))"
            ]
          },
          "metadata": {},
          "execution_count": 9
        }
      ]
    },
    {
      "cell_type": "code",
      "source": [
        "np.max(X_train) , np.mean(X_train) , Y_train"
      ],
      "metadata": {
        "colab": {
          "base_uri": "https://localhost:8080/"
        },
        "id": "nKZWJWRCRO8M",
        "outputId": "2e315c45-b034-4df0-a264-6c33349dc06a"
      },
      "execution_count": null,
      "outputs": [
        {
          "output_type": "execute_result",
          "data": {
            "text/plain": [
              "(255, 72.94035223214286, array([9, 0, 0, ..., 3, 0, 5], dtype=uint8))"
            ]
          },
          "metadata": {},
          "execution_count": 10
        }
      ]
    },
    {
      "cell_type": "code",
      "source": [
        "class_names = [\"T-shirt\", \"Trouser\",\"Pullover\",\"Dress\",\"Coat\",\"Sandal\",\"Shirt\",\"Sneaker\",\"Bag\", \"Ankle boot\"]"
      ],
      "metadata": {
        "id": "mjcZLvlqRgN-"
      },
      "execution_count": null,
      "outputs": []
    },
    {
      "cell_type": "markdown",
      "source": [
        "### 2.2 Visualizing the dataset"
      ],
      "metadata": {
        "id": "z_FMEEZBFkOg"
      }
    },
    {
      "cell_type": "code",
      "source": [
        "plt.figure()\n",
        "plt.imshow(X_train[109]) # plt.imshow(X_tain[#] or X_test[#] or X_val[#])\n",
        "plt.colorbar()"
      ],
      "metadata": {
        "id": "NoORT855Fp2v",
        "colab": {
          "base_uri": "https://localhost:8080/",
          "height": 282
        },
        "outputId": "a3112238-57a2-476f-ce8d-0f4d3aadf8b7"
      },
      "execution_count": null,
      "outputs": [
        {
          "output_type": "execute_result",
          "data": {
            "text/plain": [
              "<matplotlib.colorbar.Colorbar at 0x7f3fe9d9ef50>"
            ]
          },
          "metadata": {},
          "execution_count": 12
        },
        {
          "output_type": "display_data",
          "data": {
            "text/plain": [
              "<Figure size 432x288 with 2 Axes>"
            ],
            "image/png": "[encoded data removed]"
          },
          "metadata": {
            "needs_background": "light"
          }
        }
      ]
    },
    {
      "cell_type": "code",
      "source": [
        "# Preprocess the data (these are NumPy arrays)\n",
        "X_train = X_train.reshape(60000, 784).astype(\"float32\")/255\n",
        "X_test = X_test.reshape(10000, 784).astype(\"float32\")/255\n",
        "\n",
        "Y_train = Y_train.astype(\"float32\")\n",
        "Y_test = Y_test.astype(\"float32\")"
      ],
      "metadata": {
        "id": "IiOuC0_lZ3Ll"
      },
      "execution_count": null,
      "outputs": []
    },
    {
      "cell_type": "code",
      "source": [
        "# Reserve 10,000 samples for validation\n",
        "X_val = X_train[-10000:]\n",
        "Y_val = Y_train[-10000:]\n",
        "X_train = X_train[:-10000]\n",
        "Y_train = Y_train[:-10000]"
      ],
      "metadata": {
        "id": "0mJEPiE6g-C9"
      },
      "execution_count": null,
      "outputs": []
    },
    {
      "cell_type": "code",
      "source": [
        "X_val.shape, Y_val.shape, X_train.shape, Y_train.shape , X_test.shape"
      ],
      "metadata": {
        "colab": {
          "base_uri": "https://localhost:8080/"
        },
        "id": "1_a1Cnn5hGKb",
        "outputId": "37c10aac-29ab-4f35-82cb-fd02f9d9a25f"
      },
      "execution_count": null,
      "outputs": [
        {
          "output_type": "execute_result",
          "data": {
            "text/plain": [
              "((10000, 784), (10000,), (50000, 784), (50000,), (10000, 784))"
            ]
          },
          "metadata": {},
          "execution_count": 15
        }
      ]
    },
    {
      "cell_type": "markdown",
      "source": [
        "## 3. Create a **Multi Layer Perceptron (MLP)** for image classification.\n",
        "Feel free to use any configuration and framework for its implementation (Keras, Tensorflow, Pytorch, etc.)"
      ],
      "metadata": {
        "id": "u5DSZu_xkwza"
      }
    },
    {
      "cell_type": "code",
      "source": [
        "from tensorflow.keras import Sequential\n",
        "from tensorflow.keras.layers import Flatten, Dense"
      ],
      "metadata": {
        "id": "WMT1O9vclNpx"
      },
      "execution_count": null,
      "outputs": []
    },
    {
      "cell_type": "code",
      "source": [
        "#\n",
        "model = Sequential() \n",
        "model.add(Flatten(input_shape = (784,), name = \"Input\")) \n",
        "model.add(Dense(128, activation = \"relu\", name=\"Layer1\"))\n",
        "model.add(Dense(128, activation = \"relu\", name=\"Layer2\"))\n",
        "model.add(Dense(10, activation = \"softmax\", name=\"Output\"))\n"
      ],
      "metadata": {
        "id": "pYe9JY77TzIQ"
      },
      "execution_count": null,
      "outputs": []
    },
    {
      "cell_type": "code",
      "source": [
        "model.summary()"
      ],
      "metadata": {
        "colab": {
          "base_uri": "https://localhost:8080/"
        },
        "id": "Rn_GCPBMURbL",
        "outputId": "6acad046-b3f2-4f36-fac6-c90ed4ce7e54"
      },
      "execution_count": null,
      "outputs": [
        {
          "output_type": "stream",
          "name": "stdout",
          "text": [
            "Model: \"sequential\"\n",
            "_________________________________________________________________\n",
            " Layer (type)                Output Shape              Param #   \n",
            "=================================================================\n",
            " Input (Flatten)             (None, 784)               0         \n",
            "                                                                 \n",
            " Layer1 (Dense)              (None, 128)               100480    \n",
            "                                                                 \n",
            " Layer2 (Dense)              (None, 128)               16512     \n",
            "                                                                 \n",
            " Output (Dense)              (None, 10)                1290      \n",
            "                                                                 \n",
            "=================================================================\n",
            "Total params: 118,282\n",
            "Trainable params: 118,282\n",
            "Non-trainable params: 0\n",
            "_________________________________________________________________\n"
          ]
        }
      ]
    },
    {
      "cell_type": "markdown",
      "source": [
        "## 4. Train the model"
      ],
      "metadata": {
        "id": "MEKQa49Ckw1s"
      }
    },
    {
      "cell_type": "code",
      "source": [
        "model.compile(\n",
        "    optimizer = tf.keras.optimizers.Adam(), \n",
        "    loss = tf.keras.losses.SparseCategoricalCrossentropy(),\n",
        "    metrics=[\"accuracy\"] )"
      ],
      "metadata": {
        "id": "J2bvbZr4lfbl"
      },
      "execution_count": null,
      "outputs": []
    },
    {
      "cell_type": "code",
      "source": [
        "print(\"Fit model on training data\")\n",
        "history = model.fit(\n",
        "    X_train,\n",
        "    Y_train,\n",
        "    epochs=10,\n",
        "    validation_data=(X_val, Y_val),\n",
        ")"
      ],
      "metadata": {
        "colab": {
          "base_uri": "https://localhost:8080/"
        },
        "id": "ADwQIBDPZRTX",
        "outputId": "52c40465-fb2b-49e0-8617-f3e5a74d5886"
      },
      "execution_count": null,
      "outputs": [
        {
          "output_type": "stream",
          "name": "stdout",
          "text": [
            "Fit model on training data\n",
            "Epoch 1/10\n",
            "1563/1563 [==============================] - 11s 6ms/step - loss: 0.5011 - accuracy: 0.8213 - val_loss: 0.4086 - val_accuracy: 0.8487\n",
            "Epoch 2/10\n",
            "1563/1563 [==============================] - 5s 3ms/step - loss: 0.3696 - accuracy: 0.8648 - val_loss: 0.3651 - val_accuracy: 0.8669\n",
            "Epoch 3/10\n",
            "1563/1563 [==============================] - 5s 3ms/step - loss: 0.3339 - accuracy: 0.8779 - val_loss: 0.3495 - val_accuracy: 0.8778\n",
            "Epoch 4/10\n",
            "1563/1563 [==============================] - 5s 3ms/step - loss: 0.3100 - accuracy: 0.8844 - val_loss: 0.3357 - val_accuracy: 0.8788\n",
            "Epoch 5/10\n",
            "1563/1563 [==============================] - 5s 3ms/step - loss: 0.2917 - accuracy: 0.8919 - val_loss: 0.3437 - val_accuracy: 0.8763\n",
            "Epoch 6/10\n",
            "1563/1563 [==============================] - 5s 3ms/step - loss: 0.2762 - accuracy: 0.8965 - val_loss: 0.3268 - val_accuracy: 0.8850\n",
            "Epoch 7/10\n",
            "1563/1563 [==============================] - 5s 3ms/step - loss: 0.2618 - accuracy: 0.9023 - val_loss: 0.3182 - val_accuracy: 0.8866\n",
            "Epoch 8/10\n",
            "1563/1563 [==============================] - 5s 3ms/step - loss: 0.2503 - accuracy: 0.9053 - val_loss: 0.3305 - val_accuracy: 0.8818\n",
            "Epoch 9/10\n",
            "1563/1563 [==============================] - 5s 3ms/step - loss: 0.2399 - accuracy: 0.9095 - val_loss: 0.3525 - val_accuracy: 0.8732\n",
            "Epoch 10/10\n",
            "1563/1563 [==============================] - 4s 3ms/step - loss: 0.2310 - accuracy: 0.9122 - val_loss: 0.3487 - val_accuracy: 0.8814\n"
          ]
        }
      ]
    },
    {
      "cell_type": "code",
      "source": [
        "test_loss, test_acc = model.evaluate(X_test,Y_test)\n",
        "print(test_acc)"
      ],
      "metadata": {
        "colab": {
          "base_uri": "https://localhost:8080/"
        },
        "id": "bVjz81L81p8m",
        "outputId": "aaf6a0eb-a49b-4726-c868-f93fccaa9320"
      },
      "execution_count": null,
      "outputs": [
        {
          "output_type": "stream",
          "name": "stdout",
          "text": [
            "313/313 [==============================] - 1s 2ms/step - loss: 0.3675 - accuracy: 0.8760\n",
            "0.8759999871253967\n"
          ]
        }
      ]
    },
    {
      "cell_type": "markdown",
      "source": [
        "## 5. Plots\n",
        "Plot the evolution of the Loss function and Accuracy values over the epochs during training."
      ],
      "metadata": {
        "id": "WBYBItDnkw39"
      }
    },
    {
      "cell_type": "code",
      "source": [
        "print(history.history.keys())"
      ],
      "metadata": {
        "colab": {
          "base_uri": "https://localhost:8080/"
        },
        "id": "Yl6kEbCzyQAE",
        "outputId": "387c7c67-d1a8-4a69-cd81-1a7967275571"
      },
      "execution_count": null,
      "outputs": [
        {
          "output_type": "stream",
          "name": "stdout",
          "text": [
            "dict_keys(['loss', 'accuracy', 'val_loss', 'val_accuracy'])\n"
          ]
        }
      ]
    },
    {
      "cell_type": "code",
      "source": [
        "# summarize history for loss\n",
        "plt.plot(history.history['loss'])\n",
        "plt.plot(history.history['val_loss'])\n",
        "plt.title('model loss')\n",
        "plt.ylabel('loss')\n",
        "plt.xlabel('epoch')\n",
        "plt.legend(['train', 'test'], loc='upper left')\n",
        "plt.show()"
      ],
      "metadata": {
        "colab": {
          "base_uri": "https://localhost:8080/",
          "height": 295
        },
        "id": "nyMLxewEyR5w",
        "outputId": "79b10755-6cfe-40cd-feae-1e1900f4fd32"
      },
      "execution_count": null,
      "outputs": [
        {
          "output_type": "display_data",
          "data": {
            "text/plain": [
              "<Figure size 432x288 with 1 Axes>"
            ],
            "image/png": "[encoded data removed]"
          },
          "metadata": {
            "needs_background": "light"
          }
        }
      ]
    },
    {
      "cell_type": "code",
      "source": [
        "# summarize history for accuracy\n",
        "plt.plot(history.history['accuracy'])\n",
        "plt.plot(history.history['val_accuracy'])\n",
        "plt.title('model accuracy')\n",
        "plt.ylabel('accuracy')\n",
        "plt.xlabel('epoch')\n",
        "plt.legend(['train', 'test'], loc='upper left')\n",
        "plt.show()"
      ],
      "metadata": {
        "colab": {
          "base_uri": "https://localhost:8080/",
          "height": 295
        },
        "id": "jDb9V0d0djwW",
        "outputId": "bfebff03-592e-4594-c448-a1f7244b1cff"
      },
      "execution_count": null,
      "outputs": [
        {
          "output_type": "display_data",
          "data": {
            "text/plain": [
              "<Figure size 432x288 with 1 Axes>"
            ],
            "image/png": "[encoded data removed]"
          },
          "metadata": {
            "needs_background": "light"
          }
        }
      ]
    },
    {
      "cell_type": "markdown",
      "source": [
        "## 6. Run inference\n",
        "Run inference in the test set and compute the metrics for testing."
      ],
      "metadata": {
        "id": "upl8PW0vkw6O"
      }
    },
    {
      "cell_type": "code",
      "source": [
        "Y_pred = np.argmax(model.predict(X_test), axis = -1)"
      ],
      "metadata": {
        "id": "oDdff7jidk65"
      },
      "execution_count": null,
      "outputs": []
    },
    {
      "cell_type": "code",
      "source": [
        "accuracy_score(Y_test, Y_pred)"
      ],
      "metadata": {
        "colab": {
          "base_uri": "https://localhost:8080/"
        },
        "id": "uwmuHWN60txp",
        "outputId": "a5ad79f6-93e7-482f-cafe-a1f5e421be19"
      },
      "execution_count": null,
      "outputs": [
        {
          "output_type": "execute_result",
          "data": {
            "text/plain": [
              "0.876"
            ]
          },
          "metadata": {},
          "execution_count": 26
        }
      ]
    },
    {
      "cell_type": "code",
      "source": [
        "pred = model.predict(X_test)\n",
        "pred.shape"
      ],
      "metadata": {
        "id": "Pf4aGJtclsZr",
        "colab": {
          "base_uri": "https://localhost:8080/"
        },
        "outputId": "d43fa325-3ec3-41c0-d5ef-18ef2d65af72"
      },
      "execution_count": null,
      "outputs": [
        {
          "output_type": "execute_result",
          "data": {
            "text/plain": [
              "(10000, 10)"
            ]
          },
          "metadata": {},
          "execution_count": 27
        }
      ]
    },
    {
      "cell_type": "markdown",
      "source": [
        "## 7. Test samples\n",
        "Show some samples from the test set: image, reference class and predicted class."
      ],
      "metadata": {
        "id": "rpP6xohukw8t"
      }
    },
    {
      "cell_type": "code",
      "source": [
        "test_sample = 156"
      ],
      "metadata": {
        "id": "5MQFIngT3Uh9"
      },
      "execution_count": null,
      "outputs": []
    },
    {
      "cell_type": "code",
      "source": [
        "plt.figure()\n",
        "plt.imshow(X_test[test_sample].reshape(28,28)) # plt.imshow(X_tain[#] or X_test[#] or X_val[#])\n",
        "#plt.savefig('test_sample.png')\n",
        "plt.colorbar()"
      ],
      "metadata": {
        "id": "QjRHKsLalyQJ",
        "colab": {
          "base_uri": "https://localhost:8080/",
          "height": 282
        },
        "outputId": "3a1c6a85-2581-440e-fcf5-7123e8faba16"
      },
      "execution_count": null,
      "outputs": [
        {
          "output_type": "execute_result",
          "data": {
            "text/plain": [
              "<matplotlib.colorbar.Colorbar at 0x7f3fe54ac290>"
            ]
          },
          "metadata": {},
          "execution_count": 29
        },
        {
          "output_type": "display_data",
          "data": {
            "text/plain": [
              "<Figure size 432x288 with 2 Axes>"
            ],
            "image/png": "[encoded data removed]"
          },
          "metadata": {
            "needs_background": "light"
          }
        }
      ]
    },
    {
      "cell_type": "code",
      "source": [
        "pred[test_sample]"
      ],
      "metadata": {
        "colab": {
          "base_uri": "https://localhost:8080/"
        },
        "id": "Qxj-NiYf2pgV",
        "outputId": "6f66298b-7b9e-4b8b-e6ef-28d187a55737"
      },
      "execution_count": null,
      "outputs": [
        {
          "output_type": "execute_result",
          "data": {
            "text/plain": [
              "array([9.72039852e-05, 7.33299430e-06, 2.32648151e-03, 2.87491739e-01,\n",
              "       6.00265920e-01, 1.92502441e-08, 1.09799027e-01, 2.28554349e-08,\n",
              "       1.21219055e-05, 2.02785259e-07], dtype=float32)"
            ]
          },
          "metadata": {},
          "execution_count": 30
        }
      ]
    },
    {
      "cell_type": "code",
      "source": [
        "class_names[np.argmax(pred[test_sample])] #class based on prediction "
      ],
      "metadata": {
        "colab": {
          "base_uri": "https://localhost:8080/",
          "height": 35
        },
        "id": "A98jdKSq20fP",
        "outputId": "d8c5e051-3e61-45ef-faa5-e791dd86570d"
      },
      "execution_count": null,
      "outputs": [
        {
          "output_type": "execute_result",
          "data": {
            "text/plain": [
              "'Coat'"
            ],
            "application/vnd.google.colaboratory.intrinsic+json": {
              "type": "string"
            }
          },
          "metadata": {},
          "execution_count": 31
        }
      ]
    },
    {
      "cell_type": "code",
      "source": [
        "class_names[int(Y_test[test_sample])] #true class"
      ],
      "metadata": {
        "colab": {
          "base_uri": "https://localhost:8080/",
          "height": 35
        },
        "id": "gV3PseWmZkDT",
        "outputId": "b9e1caa6-2358-4c8b-d65f-e39aaa2061d4"
      },
      "execution_count": null,
      "outputs": [
        {
          "output_type": "execute_result",
          "data": {
            "text/plain": [
              "'Coat'"
            ],
            "application/vnd.google.colaboratory.intrinsic+json": {
              "type": "string"
            }
          },
          "metadata": {},
          "execution_count": 32
        }
      ]
    },
    {
      "cell_type": "code",
      "source": [
        "class_names"
      ],
      "metadata": {
        "colab": {
          "base_uri": "https://localhost:8080/"
        },
        "id": "WeJidSLY3OpV",
        "outputId": "d67dd08e-98f0-4fb6-b9d4-aaa11cdc229b"
      },
      "execution_count": null,
      "outputs": [
        {
          "output_type": "execute_result",
          "data": {
            "text/plain": [
              "['T-shirt',\n",
              " 'Trouser',\n",
              " 'Pullover',\n",
              " 'Dress',\n",
              " 'Coat',\n",
              " 'Sandal',\n",
              " 'Shirt',\n",
              " 'Sneaker',\n",
              " 'Bag',\n",
              " 'Ankle boot']"
            ]
          },
          "metadata": {},
          "execution_count": 33
        }
      ]
    },
    {
      "cell_type": "code",
      "source": [
        "model.save('model')\n",
        "model.save_weights('model.h5')"
      ],
      "metadata": {
        "colab": {
          "base_uri": "https://localhost:8080/"
        },
        "id": "ZrkofAS-37SZ",
        "outputId": "8bf4374b-c737-4cbf-dbb4-b2a5598eb3f4"
      },
      "execution_count": null,
      "outputs": [
        {
          "output_type": "stream",
          "name": "stderr",
          "text": [
            "WARNING:absl:Function `_wrapped_model` contains input name(s) Input_input with unsupported characters which will be renamed to input_input in the SavedModel.\n"
          ]
        },
        {
          "output_type": "stream",
          "name": "stdout",
          "text": [
            "INFO:tensorflow:Assets written to: model/assets\n"
          ]
        },
        {
          "output_type": "stream",
          "name": "stderr",
          "text": [
            "INFO:tensorflow:Assets written to: model/assets\n"
          ]
        }
      ]
    },
    {
      "cell_type": "markdown",
      "source": [
        "## 8. Testing with rotation\n",
        "Choose one image from the test set, apply a rotation (e.g. 30°, 45°, 60°)."
      ],
      "metadata": {
        "id": "_Elaw0zYkw-_"
      }
    },
    {
      "cell_type": "code",
      "source": [
        "x30 = X_test[test_sample].reshape(28,28,1)"
      ],
      "metadata": {
        "id": "7iOOqc_gmAgg"
      },
      "execution_count": null,
      "outputs": []
    },
    {
      "cell_type": "code",
      "source": [
        "x30 = tf.keras.preprocessing.image.random_rotation(\n",
        "                                            x30,\n",
        "                                            30,\n",
        "                                            row_axis=1,\n",
        "                                            col_axis=2,\n",
        "                                            channel_axis=0\n",
        "                                        )"
      ],
      "metadata": {
        "id": "J9EXmvuQ6whl"
      },
      "execution_count": null,
      "outputs": []
    },
    {
      "cell_type": "code",
      "source": [
        "plt.figure()\n",
        "plt.imshow(x30.reshape(28,28)) # plt.imshow(X_tain[#] or X_test[#] or X_val[#])\n",
        "#plt.savefig('test_sample.png')\n",
        "plt.colorbar()"
      ],
      "metadata": {
        "colab": {
          "base_uri": "https://localhost:8080/",
          "height": 282
        },
        "id": "KFovSm4x7Iea",
        "outputId": "4331a8cf-db86-4dff-f24d-948ff2c7ad41"
      },
      "execution_count": null,
      "outputs": [
        {
          "output_type": "execute_result",
          "data": {
            "text/plain": [
              "<matplotlib.colorbar.Colorbar at 0x7f3fe54c6890>"
            ]
          },
          "metadata": {},
          "execution_count": 37
        },
        {
          "output_type": "display_data",
          "data": {
            "text/plain": [
              "<Figure size 432x288 with 2 Axes>"
            ],
            "image/png": "[encoded data removed]"
          },
          "metadata": {
            "needs_background": "light"
          }
        }
      ]
    },
    {
      "cell_type": "code",
      "source": [
        "x45 = X_test[test_sample].reshape(28,28,1)\n",
        "x45 = tf.keras.preprocessing.image.random_rotation(\n",
        "                                            x45,\n",
        "                                            45,\n",
        "                                            row_axis=1,\n",
        "                                            col_axis=2,\n",
        "                                            channel_axis=0\n",
        "                                        )"
      ],
      "metadata": {
        "id": "Vr078yII8V-H"
      },
      "execution_count": null,
      "outputs": []
    },
    {
      "cell_type": "code",
      "source": [
        "x60 = X_test[test_sample].reshape(28,28,1)\n",
        "x60 = tf.keras.preprocessing.image.random_rotation(\n",
        "                                            x60,\n",
        "                                            60,\n",
        "                                            row_axis=1,\n",
        "                                            col_axis=2,\n",
        "                                            channel_axis=0\n",
        "                                        )"
      ],
      "metadata": {
        "id": "5YVLfZHh8WUN"
      },
      "execution_count": null,
      "outputs": []
    },
    {
      "cell_type": "markdown",
      "source": [
        "## 9. Comparison\n",
        "Compare the predicted classes before and after the rotation. Is there any change? If yes, what would be the reason for it?"
      ],
      "metadata": {
        "id": "Wu2g0fEwkxBl"
      }
    },
    {
      "cell_type": "code",
      "source": [
        "model1 = keras.models.load_model('model')\n",
        "model1.load_weights('model.h5')"
      ],
      "metadata": {
        "id": "Sdf6TZ7U9bXI"
      },
      "execution_count": null,
      "outputs": []
    },
    {
      "cell_type": "code",
      "source": [
        "class_names[int(Y_test[test_sample])]  #true class"
      ],
      "metadata": {
        "colab": {
          "base_uri": "https://localhost:8080/",
          "height": 35
        },
        "id": "Pr5fQ3PYCOEA",
        "outputId": "a71cc5ef-b170-4b4d-bfc9-50d6b06b3972"
      },
      "execution_count": null,
      "outputs": [
        {
          "output_type": "execute_result",
          "data": {
            "text/plain": [
              "'Coat'"
            ],
            "application/vnd.google.colaboratory.intrinsic+json": {
              "type": "string"
            }
          },
          "metadata": {},
          "execution_count": 41
        }
      ]
    },
    {
      "cell_type": "code",
      "source": [
        "pred30 = np.argmax(model1.predict(x30.reshape(1,784)))\n",
        "class_names[pred30]   # possible wrong classification "
      ],
      "metadata": {
        "colab": {
          "base_uri": "https://localhost:8080/",
          "height": 35
        },
        "id": "CunqXObc8WdM",
        "outputId": "57409887-97b1-44a4-dc92-5d2d40cb0194"
      },
      "execution_count": null,
      "outputs": [
        {
          "output_type": "execute_result",
          "data": {
            "text/plain": [
              "'Bag'"
            ],
            "application/vnd.google.colaboratory.intrinsic+json": {
              "type": "string"
            }
          },
          "metadata": {},
          "execution_count": 42
        }
      ]
    },
    {
      "cell_type": "code",
      "source": [
        "pred45 = np.argmax(model1.predict(x45.reshape(1,784)))\n",
        "class_names[pred45]   # possible wrong classification "
      ],
      "metadata": {
        "colab": {
          "base_uri": "https://localhost:8080/",
          "height": 35
        },
        "id": "at92qsHaB12D",
        "outputId": "a78c3d8a-66b7-473f-cae9-885fecff4d7e"
      },
      "execution_count": null,
      "outputs": [
        {
          "output_type": "execute_result",
          "data": {
            "text/plain": [
              "'Sneaker'"
            ],
            "application/vnd.google.colaboratory.intrinsic+json": {
              "type": "string"
            }
          },
          "metadata": {},
          "execution_count": 43
        }
      ]
    },
    {
      "cell_type": "code",
      "source": [
        "pred60 = np.argmax(model1.predict(x60.reshape(1,784)))\n",
        "class_names[pred60]   # possible wrong classification "
      ],
      "metadata": {
        "colab": {
          "base_uri": "https://localhost:8080/",
          "height": 35
        },
        "id": "u-mokN7VB6bs",
        "outputId": "985942e6-c1fb-4924-e43e-f35be1340c7b"
      },
      "execution_count": null,
      "outputs": [
        {
          "output_type": "execute_result",
          "data": {
            "text/plain": [
              "'Shirt'"
            ],
            "application/vnd.google.colaboratory.intrinsic+json": {
              "type": "string"
            }
          },
          "metadata": {},
          "execution_count": 44
        }
      ]
    },
    {
      "cell_type": "markdown",
      "source": [
        "## 10. Testing with new image\n",
        "Test the model with another image (from internet or take a photo with your phone). Do not forget to convert the image to the Fashion MNIST format: grayscale, $28\\times 28$. Comment the results."
      ],
      "metadata": {
        "id": "3-WqJgC2mMi3"
      }
    },
    {
      "cell_type": "code",
      "source": [
        "# importing modules\n",
        "import urllib.request\n",
        "from PIL import Image, ImageOps\n",
        "\n",
        "urllib.request.urlretrieve(\n",
        "  'https://i.pinimg.com/originals/2f/38/43/2f384343ea340d35e06423cbb4b374fd.jpg',\n",
        "   \"test_from_internet.png\") \n",
        "#urllib.request.urlretrieve('https://thumbs.dreamstime.com/z/white-blank-t-shirt-back-isolated-black-background-141258402.jpg',\"test_from_internet.png\")\n",
        "   \n",
        "  \n",
        "img = Image.open(\"test_from_internet.png\")\n",
        "img.show()"
      ],
      "metadata": {
        "id": "D4d1ZP_mInOu"
      },
      "execution_count": null,
      "outputs": []
    },
    {
      "cell_type": "code",
      "source": [
        "#matching dimensions\n",
        "dimensions = (28,28)\n",
        "img = img.resize(dimensions)\n",
        "img.save('resized_test_from_internet.jpg')\n",
        "#converting into grayscale Image\n",
        "img = ImageOps.grayscale(img)"
      ],
      "metadata": {
        "id": "9RAQHPw0Gdyt"
      },
      "execution_count": null,
      "outputs": []
    },
    {
      "cell_type": "code",
      "source": [
        "plt.figure()\n",
        "plt.imshow(img)\n",
        "plt.colorbar()"
      ],
      "metadata": {
        "colab": {
          "base_uri": "https://localhost:8080/",
          "height": 282
        },
        "id": "XvrY2nbsHtBl",
        "outputId": "3c391650-4da7-43c1-da8d-953ec08d5e34"
      },
      "execution_count": null,
      "outputs": [
        {
          "output_type": "execute_result",
          "data": {
            "text/plain": [
              "<matplotlib.colorbar.Colorbar at 0x7f3fe1ed2610>"
            ]
          },
          "metadata": {},
          "execution_count": 72
        },
        {
          "output_type": "display_data",
          "data": {
            "text/plain": [
              "<Figure size 432x288 with 2 Axes>"
            ],
            "image/png": "[encoded data removed]"
          },
          "metadata": {
            "needs_background": "light"
          }
        }
      ]
    },
    {
      "cell_type": "code",
      "source": [
        "#converting Image object into numpy array\n",
        "test_data = np.array(img) / 255.0\n",
        "test_data.shape"
      ],
      "metadata": {
        "colab": {
          "base_uri": "https://localhost:8080/"
        },
        "id": "il7nqMCfJzgQ",
        "outputId": "924f5450-f6c0-435d-8dcb-7335a3ad46e8"
      },
      "execution_count": null,
      "outputs": [
        {
          "output_type": "execute_result",
          "data": {
            "text/plain": [
              "(28, 28)"
            ]
          },
          "metadata": {},
          "execution_count": 73
        }
      ]
    },
    {
      "cell_type": "code",
      "source": [
        "pred_iamge_from_internet = np.argmax(model1.predict(test_data.reshape(1,784)))\n",
        "pred_iamge_from_internet"
      ],
      "metadata": {
        "colab": {
          "base_uri": "https://localhost:8080/"
        },
        "id": "9xEu-9dyJXKQ",
        "outputId": "8e443faa-99b4-4c5c-cbea-41d85c14f06b"
      },
      "execution_count": null,
      "outputs": [
        {
          "output_type": "execute_result",
          "data": {
            "text/plain": [
              "5"
            ]
          },
          "metadata": {},
          "execution_count": 74
        }
      ]
    },
    {
      "cell_type": "code",
      "source": [
        "class_names[pred_iamge_from_internet]"
      ],
      "metadata": {
        "colab": {
          "base_uri": "https://localhost:8080/",
          "height": 35
        },
        "id": "Ksp84dOPKDmY",
        "outputId": "6bc69632-261a-4e6d-c636-d8bd718fc06a"
      },
      "execution_count": null,
      "outputs": [
        {
          "output_type": "execute_result",
          "data": {
            "text/plain": [
              "'Sandal'"
            ],
            "application/vnd.google.colaboratory.intrinsic+json": {
              "type": "string"
            }
          },
          "metadata": {},
          "execution_count": 75
        }
      ]
    },
    {
      "cell_type": "markdown",
      "source": [
        "## 11. How could we improve the trained model?"
      ],
      "metadata": {
        "id": "F48NbzdEmXUm"
      }
    },
    {
      "cell_type": "markdown",
      "source": [
        "May be applying suitable regularization could solve the problem of overfitting. Another approach could be to use convolutional neural network to get more accurate prediction after rotating the test sample. Increasing the capacity of the neural network could improve the trained model."
      ],
      "metadata": {
        "id": "5i3rw6SJmYpo"
      }
    },
    {
      "cell_type": "code",
      "source": [
        ""
      ],
      "metadata": {
        "id": "THU97niH5CK_"
      },
      "execution_count": null,
      "outputs": []
    }
  ]
}